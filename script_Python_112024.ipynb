{
 "cells": [
  {
   "cell_type": "markdown",
   "id": "975560d0-3d36-4d34-b6c4-813cef69fd04",
   "metadata": {},
   "source": [
    "# Extraction API"
   ]
  },
  {
   "cell_type": "code",
   "execution_count": 30,
   "id": "bd11c963-2965-48c6-9aef-ffa7926257b8",
   "metadata": {},
   "outputs": [
    {
     "name": "stdout",
     "output_type": "stream",
     "text": [
      "10 produits enregistrés dans 'champagne_products.csv'\n"
     ]
    }
   ],
   "source": [
    "import requests\n",
    "import csv\n",
    "\n",
    "# API Key et App ID pour accéder à l'API Edamam\n",
    "api_key = '3ef97b3218be1e56b2b9b45478966185'  # Clé API \n",
    "app_id = '6726ad17'  # ID d'application \n",
    "\n",
    "# Fonction pour obtenir les 10 premiers produits contenant \"champagne\"\n",
    "def get_champagne_products():\n",
    "    url = f'https://api.edamam.com/api/food-database/v2/parser'\n",
    "    params = {\n",
    "        'app_id': app_id,\n",
    "        'app_key': api_key,\n",
    "        'ingr': 'champagne',  # Recherche de produits à base de champagne\n",
    "    }\n",
    "\n",
    "    response = requests.get(url, params=params)\n",
    "    \n",
    "    # Vérifier le statut de la réponse\n",
    "    if response.status_code != 200:\n",
    "        print(f\"Erreur {response.status_code}: Impossible de récupérer les données.\")\n",
    "        return []\n",
    "\n",
    "    # Vérifier si 'hints' existe dans la réponse JSON\n",
    "    try:\n",
    "        data = response.json()\n",
    "        if 'hints' not in data:\n",
    "            print(\"Aucune donnée de produits trouvée dans la réponse.\")\n",
    "            return []\n",
    "\n",
    "        # Extraire les 10 premiers produits\n",
    "        products = []\n",
    "        for item in data['hints'][:10]:  # Limite à 10 produits\n",
    "            food = item['food']\n",
    "            product_info = {\n",
    "                'foodId': food['foodId'],\n",
    "                'label': food['label'],\n",
    "                'category': food['category'],\n",
    "                'foodContentsLabel': food.get('foodContentsLabel', ''),\n",
    "                'image': food.get('image', '')\n",
    "            }\n",
    "            products.append(product_info)\n",
    "        return products\n",
    "    except KeyError as e:\n",
    "        print(f\"Clé manquante dans la réponse JSON: {e}\")\n",
    "        return []\n",
    "\n",
    "# Fonction pour sauvegarder les données dans un fichier CSV\n",
    "def save_to_csv(products, filename='champagne_products.csv'):\n",
    "    if not products:\n",
    "        print(\"Aucun produit à enregistrer.\")\n",
    "        return\n",
    "\n",
    "    keys = products[0].keys()  # Récupère les clés (en-têtes de colonnes)\n",
    "    \n",
    "    with open(filename, mode='w', newline='') as file:\n",
    "        writer = csv.DictWriter(file, fieldnames=keys)\n",
    "        writer.writeheader()\n",
    "        writer.writerows(products)\n",
    "\n",
    "# Obtenez les produits à base de champagne et les sauvegardez\n",
    "products = get_champagne_products()\n",
    "if products:\n",
    "    save_to_csv(products)\n",
    "    print(f\"{len(products)} produits enregistrés dans 'champagne_products.csv'\")\n",
    "else:\n",
    "    print(\"Aucun produit trouvé ou erreur dans la récupération des données.\")\n"
   ]
  }
 ],
 "metadata": {
  "kernelspec": {
   "display_name": "Python 3 (ipykernel)",
   "language": "python",
   "name": "python3"
  },
  "language_info": {
   "codemirror_mode": {
    "name": "ipython",
    "version": 3
   },
   "file_extension": ".py",
   "mimetype": "text/x-python",
   "name": "python",
   "nbconvert_exporter": "python",
   "pygments_lexer": "ipython3",
   "version": "3.12.7"
  }
 },
 "nbformat": 4,
 "nbformat_minor": 5
}
